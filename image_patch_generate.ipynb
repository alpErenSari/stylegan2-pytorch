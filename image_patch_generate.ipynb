{
 "cells": [
  {
   "cell_type": "code",
   "execution_count": 31,
   "metadata": {},
   "outputs": [],
   "source": [
    "import argparse\n",
    "import os\n",
    "import random\n",
    "import torch\n",
    "import torch.nn as nn\n",
    "import torch.nn.functional as F\n",
    "import torch.nn.parallel\n",
    "import torch.backends.cudnn as cudnn\n",
    "import torch.optim as optim\n",
    "import torch.utils.data\n",
    "import torchvision.datasets as dset\n",
    "import torchvision.transforms as transforms\n",
    "import torchvision.utils as vutils"
   ]
  },
  {
   "cell_type": "code",
   "execution_count": 32,
   "metadata": {},
   "outputs": [],
   "source": [
    "from dataset import MultiResolutionDataset\n",
    "import matplotlib.pyplot as plt\n",
    "from tqdm.notebook import tqdm"
   ]
  },
  {
   "cell_type": "code",
   "execution_count": 33,
   "metadata": {},
   "outputs": [],
   "source": [
    "dataroot = '../../datasets/ffhq-dataset/images256x256/'\n",
    "imageSize = 64\n",
    "batchSize = 1"
   ]
  },
  {
   "cell_type": "code",
   "execution_count": 34,
   "metadata": {},
   "outputs": [],
   "source": [
    "device = 'cuda' if torch.cuda.is_available() else 'cpu'"
   ]
  },
  {
   "cell_type": "code",
   "execution_count": 35,
   "metadata": {},
   "outputs": [],
   "source": [
    "dataset = MultiResolutionDataset(dataroot,\n",
    "        transforms.Compose([\n",
    "                transforms.Resize(imageSize),\n",
    "                transforms.RandomHorizontalFlip(),\n",
    "                transforms.ToTensor(),\n",
    "                transforms.Normalize((0.5, 0.5, 0.5), (0.5, 0.5, 0.5), inplace=True),\n",
    "            ]),\n",
    "        256\n",
    "    )\n",
    "\n",
    "dataloader = torch.utils.data.DataLoader(dataset, batch_size=batchSize,\n",
    "                                         shuffle=True, num_workers=int(2))"
   ]
  },
  {
   "cell_type": "code",
   "execution_count": 36,
   "metadata": {},
   "outputs": [],
   "source": [
    "def accumulate(model1, model2, decay=0.999):\n",
    "    par1 = dict(model1.named_parameters())\n",
    "    par2 = dict(model2.named_parameters())\n",
    "\n",
    "    for k in par1.keys():\n",
    "        par1[k].data.mul_(decay).add_(par2[k].data, alpha=1 - decay)"
   ]
  },
  {
   "cell_type": "code",
   "execution_count": 106,
   "metadata": {},
   "outputs": [],
   "source": [
    "from model import Generator\n",
    "\n",
    "latent = 512\n",
    "n_mlp = 8\n",
    "ngf = 64\n",
    "nc = 3\n",
    "channel_multiplier = 2\n",
    "patch_size = 16\n",
    "\n",
    "\n",
    "generator = Generator(\n",
    "        patch_size, latent, n_mlp, channel_multiplier=channel_multiplier\n",
    "    ).to(device)\n",
    "g_ema = Generator(\n",
    "        patch_size, latent, n_mlp, channel_multiplier=channel_multiplier\n",
    "    ).to(device)\n",
    "\n",
    "accumulate(g_ema, generator, decay=0)"
   ]
  },
  {
   "cell_type": "code",
   "execution_count": 107,
   "metadata": {},
   "outputs": [],
   "source": [
    "embedding = nn.Embedding(16, 256).to(device)\n",
    "\n",
    "def get_embedding(i, j):\n",
    "    assert i < 4 and j < 4, \"i and j has to be lower than 4\"\n",
    "    return embedding(torch.tensor(i * 4 + j).long().to(device).repeat(batchSize))"
   ]
  },
  {
   "cell_type": "code",
   "execution_count": 108,
   "metadata": {},
   "outputs": [
    {
     "data": {
      "text/plain": [
       "torch.Size([1, 256])"
      ]
     },
     "execution_count": 108,
     "metadata": {},
     "output_type": "execute_result"
    }
   ],
   "source": [
    "get_embedding(0,0).size()"
   ]
  },
  {
   "cell_type": "code",
   "execution_count": 109,
   "metadata": {},
   "outputs": [],
   "source": [
    "g_reg_every = 4\n",
    "g_reg_ratio = g_reg_every / (g_reg_every + 1)\n",
    "\n",
    "fold = nn.Fold(64,16,stride=16).to(device)"
   ]
  },
  {
   "cell_type": "code",
   "execution_count": 110,
   "metadata": {},
   "outputs": [
    {
     "name": "stdout",
     "output_type": "stream",
     "text": [
      "torch.Size([1, 3, 64, 64])\n"
     ]
    }
   ],
   "source": [
    "some_noise = torch.randn(1, 3*16*16, 16, device=device)\n",
    "out = fold(some_noise)\n",
    "print(out.size())"
   ]
  },
  {
   "cell_type": "code",
   "execution_count": 111,
   "metadata": {},
   "outputs": [
    {
     "data": {
      "text/plain": [
       "<All keys matched successfully>"
      ]
     },
     "execution_count": 111,
     "metadata": {},
     "output_type": "execute_result"
    }
   ],
   "source": [
    "netG_path = 'experiments/checkpoint/140000.pt'\n",
    "# netG_path = 'checkpoint/060000.pt'\n",
    "ckpt = torch.load(netG_path, map_location=lambda storage, loc: storage)\n",
    "generator.load_state_dict(ckpt[\"g\"])"
   ]
  },
  {
   "cell_type": "code",
   "execution_count": 112,
   "metadata": {},
   "outputs": [
    {
     "name": "stdout",
     "output_type": "stream",
     "text": [
      "torch.Size([1, 3, 16, 16])\n"
     ]
    }
   ],
   "source": [
    "fixed_noise = torch.randn(batchSize, latent-256, device=device)\n",
    "style_vec = [torch.cat([fixed_noise, get_embedding(0,0)], dim=1)]\n",
    "fake_img,_ = generator(style_vec)\n",
    "print(fake_img.size())"
   ]
  },
  {
   "cell_type": "code",
   "execution_count": 113,
   "metadata": {},
   "outputs": [
    {
     "data": {
      "text/plain": [
       "Text(0.5, 1.0, 'Generated Patch')"
      ]
     },
     "execution_count": 113,
     "metadata": {},
     "output_type": "execute_result"
    },
    {
     "data": {
      "image/png": "[encoded data removed]",
      "text/plain": [
       "<Figure size 216x216 with 1 Axes>"
      ]
     },
     "metadata": {
      "needs_background": "light"
     },
     "output_type": "display_data"
    }
   ],
   "source": [
    "img_show = vutils.make_grid(fake_img, normalize=True, range=(-1, 1))\n",
    "\n",
    "plt.figure(figsize=(3,3))\n",
    "img_show_ = img_show.permute(1,2,0).detach().cpu().numpy()\n",
    "plt.imshow(img_show_)\n",
    "plt.title('Generated Patch')"
   ]
  },
  {
   "cell_type": "code",
   "execution_count": 114,
   "metadata": {},
   "outputs": [],
   "source": [
    "sample_img = next(iter(dataloader)).to(device)"
   ]
  },
  {
   "cell_type": "code",
   "execution_count": 115,
   "metadata": {},
   "outputs": [
    {
     "data": {
      "text/plain": [
       "Text(0.5, 1.0, 'Sample Image')"
      ]
     },
     "execution_count": 115,
     "metadata": {},
     "output_type": "execute_result"
    },
    {
     "data": {
      "image/png": "[encoded data removed]",
      "text/plain": [
       "<Figure size 360x360 with 1 Axes>"
      ]
     },
     "metadata": {
      "needs_background": "light"
     },
     "output_type": "display_data"
    }
   ],
   "source": [
    "img_show_2 = vutils.make_grid(sample_img, normalize=True, range=(-1, 1))\n",
    "# vutils.save_image(\n",
    "#                         sample_img,\n",
    "#                         f\"some_results/real_{str(1).zfill(6)}.png\",\n",
    "#                         nrow=int(1),\n",
    "#                         normalize=True,\n",
    "#                         range=(-1, 1),\n",
    "#                     )\n",
    "plt.figure(figsize=(5,5))\n",
    "img_show_2 = img_show_2.permute(1,2,0).detach().cpu().numpy()\n",
    "plt.imshow(img_show_2)\n",
    "plt.title('Sample Image')"
   ]
  },
  {
   "cell_type": "code",
   "execution_count": 116,
   "metadata": {},
   "outputs": [],
   "source": [
    "def requires_grad(model, flag=True):\n",
    "    for p in model.parameters():\n",
    "        p.requires_grad = flag"
   ]
  },
  {
   "cell_type": "code",
   "execution_count": 117,
   "metadata": {},
   "outputs": [
    {
     "name": "stdout",
     "output_type": "stream",
     "text": [
      "torch.Size([16, 256])\n"
     ]
    }
   ],
   "source": [
    "pos_labels = []\n",
    "for j in range(4):\n",
    "    for i in range(4):\n",
    "        pos_labels.append(get_embedding(i,j))\n",
    "\n",
    "pos_labels = torch.cat(pos_labels, dim=0)\n",
    "print(pos_labels.size())"
   ]
  },
  {
   "cell_type": "code",
   "execution_count": 144,
   "metadata": {},
   "outputs": [
    {
     "name": "stdout",
     "output_type": "stream",
     "text": [
      "torch.Size([16, 3, 16, 16])\n"
     ]
    }
   ],
   "source": [
    "noise = [torch.randn(16, latent, device=device, requires_grad = True)]\n",
    "# style_vec = [torch.cat([noise[0], pos_labels.detach()], dim=1)]\n",
    "fake_img,_ = generator(noise)\n",
    "print(fake_img.size())"
   ]
  },
  {
   "cell_type": "code",
   "execution_count": 145,
   "metadata": {},
   "outputs": [
    {
     "data": {
      "text/plain": [
       "Text(0.5, 1.0, 'Generated Image')"
      ]
     },
     "execution_count": 145,
     "metadata": {},
     "output_type": "execute_result"
    },
    {
     "data": {
      "image/png": "[encoded data removed]",
      "text/plain": [
       "<Figure size 360x360 with 1 Axes>"
      ]
     },
     "metadata": {
      "needs_background": "light"
     },
     "output_type": "display_data"
    }
   ],
   "source": [
    "img_show = vutils.make_grid(fake_img, normalize=True, nrow=4)\n",
    "plt.figure(figsize=(5,5))\n",
    "img_show_ = img_show.permute(1,2,0).detach().cpu().numpy()\n",
    "plt.imshow(img_show_)\n",
    "plt.title('Generated Image')"
   ]
  },
  {
   "cell_type": "code",
   "execution_count": 146,
   "metadata": {},
   "outputs": [],
   "source": [
    "lr = 1e-1\n",
    "beta1 = 0.5\n",
    "parameters_to_optimize = noise + list(generator.parameters())\n",
    "# optimizer = optim.Adam(noise, lr=lr, betas=(beta1, 0.999))\n",
    "optimizer = optim.SGD(\n",
    "                parameters_to_optimize,\n",
    "                lr=lr * g_reg_ratio,\n",
    "                momentum = 0.9\n",
    "#                 betas=(0.9 ** g_reg_ratio, 0.99 ** g_reg_ratio),\n",
    "            )\n",
    "criterion = nn.MSELoss().to(device)"
   ]
  },
  {
   "cell_type": "code",
   "execution_count": 153,
   "metadata": {},
   "outputs": [
    {
     "data": {
      "application/vnd.jupyter.widget-view+json": {
       "model_id": "7d9e3ba168c34c9a9c786ad0f8e534e7",
       "version_major": 2,
       "version_minor": 0
      },
      "text/plain": [
       "  0%|          | 0/100 [00:00<?, ?it/s]"
      ]
     },
     "metadata": {},
     "output_type": "display_data"
    }
   ],
   "source": [
    "niter = 100\n",
    "losses = []\n",
    "generator.eval()\n",
    "requires_grad(generator, False)\n",
    "\n",
    "for i in tqdm(range(niter)):\n",
    "    optimizer.zero_grad()\n",
    "    fake_img,_ = generator(noise)\n",
    "    fake_img = (fake_img - fake_img.min()) / fake_img.max()\n",
    "    fake_img = 2 * fake_img - 1.0\n",
    "    fake_img = fake_img.view(1,16,3*16*16).permute(0,2,1)\n",
    "    fake_img = fold(fake_img)\n",
    "    loss = criterion(fake_img, sample_img.detach())\n",
    "    losses.append(loss.item())\n",
    "    loss.backward()\n",
    "    \n",
    "    optimizer.step()\n",
    "    \n",
    "    accumulate(g_ema, generator, 0.999)"
   ]
  },
  {
   "cell_type": "code",
   "execution_count": 154,
   "metadata": {},
   "outputs": [
    {
     "name": "stdout",
     "output_type": "stream",
     "text": [
      "0.11358308047056198\n"
     ]
    },
    {
     "data": {
      "image/png": "[encoded data removed]",
      "text/plain": [
       "<Figure size 432x288 with 1 Axes>"
      ]
     },
     "metadata": {
      "needs_background": "light"
     },
     "output_type": "display_data"
    }
   ],
   "source": [
    "plt.plot(losses)\n",
    "print(min(losses))"
   ]
  },
  {
   "cell_type": "code",
   "execution_count": 62,
   "metadata": {},
   "outputs": [],
   "source": [
    "fake_img,_ = generator(noise)\n",
    "fake_img = fake_img.view(1,16,3*16*16).permute(0,2,1)\n",
    "fake_img = fold(fake_img)"
   ]
  },
  {
   "cell_type": "code",
   "execution_count": 155,
   "metadata": {},
   "outputs": [
    {
     "data": {
      "text/plain": [
       "Text(0.5, 1.0, 'Generated Image')"
      ]
     },
     "execution_count": 155,
     "metadata": {},
     "output_type": "execute_result"
    },
    {
     "data": {
      "image/png": "[encoded data removed]",
      "text/plain": [
       "<Figure size 360x360 with 1 Axes>"
      ]
     },
     "metadata": {
      "needs_background": "light"
     },
     "output_type": "display_data"
    }
   ],
   "source": [
    "img_show = vutils.make_grid(fake_img, normalize=True, nrow=4)\n",
    "# vutils.save_image(\n",
    "#                         fake_img,\n",
    "#                         f\"some_results/fake_normal_style_{str(i).zfill(6)}.png\",\n",
    "#                         nrow=int(1),\n",
    "#                         normalize=True,\n",
    "#                         range=(-1, 1),\n",
    "#                     )\n",
    "plt.figure(figsize=(5,5))\n",
    "img_show_ = img_show.permute(1,2,0).detach().cpu().numpy()\n",
    "plt.imshow(img_show_)\n",
    "plt.title('Generated Image')"
   ]
  },
  {
   "cell_type": "code",
   "execution_count": 186,
   "metadata": {},
   "outputs": [],
   "source": [
    "def random_crop_dataset(img):\n",
    "        _, h, w = img.size()\n",
    "        th, tw = (16, 16)\n",
    "        number_patches_sqrt_h = h // th\n",
    "        number_patches_sqrt_w = w // tw\n",
    "\n",
    "        if h < th or w < tw:\n",
    "            raise ValueError(\n",
    "                \"Required crop size {} is larger then input image size {}\".format((th, tw), (h, w))\n",
    "            )\n",
    "\n",
    "        if w == tw and h == th:\n",
    "            return 0, 0, h, w\n",
    "\n",
    "        i = torch.randint(0, number_patches_sqrt_h, size=(1,)).item()\n",
    "        j = torch.randint(0, number_patches_sqrt_w, size=(1,)).item()\n",
    "\n",
    "        position_label = torch.tensor(i * number_patches_sqrt_w + j).long()\n",
    "\n",
    "        return img[:,i*th:(i+1)*th,j*tw:(j+1)*tw].clone(), position_label"
   ]
  },
  {
   "cell_type": "code",
   "execution_count": 187,
   "metadata": {},
   "outputs": [
    {
     "name": "stdout",
     "output_type": "stream",
     "text": [
      "torch.Size([3, 16, 16])\n",
      "tensor(12)\n"
     ]
    }
   ],
   "source": [
    "noise_img = torch.randn(3, 64, 64)\n",
    "out, pos = random_crop_dataset(noise_img)\n",
    "print(out.size())\n",
    "print(pos)"
   ]
  },
  {
   "cell_type": "code",
   "execution_count": 5,
   "metadata": {},
   "outputs": [],
   "source": [
    "from dataset import MultiResolutionDatasetRandomCrop\n",
    "transform = transforms.Compose(\n",
    "        [\n",
    "            transforms.Resize(64),\n",
    "            transforms.RandomHorizontalFlip(),\n",
    "            transforms.ToTensor(),\n",
    "            transforms.Normalize((0.5, 0.5, 0.5), (0.5, 0.5, 0.5), inplace=True),\n",
    "        ]\n",
    "    )\n",
    "dataset = MultiResolutionDatasetRandomCrop(dataroot, transform, 256)"
   ]
  },
  {
   "cell_type": "code",
   "execution_count": 9,
   "metadata": {},
   "outputs": [
    {
     "data": {
      "text/plain": [
       "tensor(6)"
      ]
     },
     "execution_count": 9,
     "metadata": {},
     "output_type": "execute_result"
    }
   ],
   "source": [
    "dataset[5][1]"
   ]
  },
  {
   "cell_type": "code",
   "execution_count": 29,
   "metadata": {},
   "outputs": [
    {
     "name": "stdout",
     "output_type": "stream",
     "text": [
      "tensor([0.0752, 0.1200], grad_fn=<EmbeddingBackward>)\n",
      "tensor([ 1.6994, -2.1308], grad_fn=<EmbeddingBackward>)\n",
      "tensor([-0.4798, -1.4023], grad_fn=<EmbeddingBackward>)\n",
      "tensor([1.1683, 1.1872], grad_fn=<EmbeddingBackward>)\n",
      "tensor([-1.3438,  0.0603], grad_fn=<EmbeddingBackward>)\n",
      "tensor([0.0631, 0.0668], grad_fn=<EmbeddingBackward>)\n",
      "tensor([-0.2310, -0.4077], grad_fn=<EmbeddingBackward>)\n",
      "tensor([-2.6909,  0.2558], grad_fn=<EmbeddingBackward>)\n",
      "tensor([-1.0492,  0.2012], grad_fn=<EmbeddingBackward>)\n",
      "tensor([0.2167, 0.6492], grad_fn=<EmbeddingBackward>)\n",
      "tensor([0.3219, 0.3609], grad_fn=<EmbeddingBackward>)\n",
      "tensor([-0.5620,  1.3883], grad_fn=<EmbeddingBackward>)\n",
      "tensor([0.2294, 0.2537], grad_fn=<EmbeddingBackward>)\n",
      "tensor([1.6832, 1.2689], grad_fn=<EmbeddingBackward>)\n",
      "tensor([1.7795, 0.9559], grad_fn=<EmbeddingBackward>)\n",
      "tensor([ 0.1188, -0.9478], grad_fn=<EmbeddingBackward>)\n"
     ]
    }
   ],
   "source": [
    "embedding = nn.Embedding(16, )\n",
    "for i in range(16):\n",
    "    print(embedding(torch.tensor(i)))"
   ]
  },
  {
   "cell_type": "code",
   "execution_count": null,
   "metadata": {},
   "outputs": [],
   "source": []
  },
  {
   "cell_type": "code",
   "execution_count": null,
   "metadata": {},
   "outputs": [],
   "source": []
  }
 ],
 "metadata": {
  "kernelspec": {
   "display_name": "Python 3",
   "language": "python",
   "name": "python3"
  },
  "language_info": {
   "codemirror_mode": {
    "name": "ipython",
    "version": 3
   },
   "file_extension": ".py",
   "mimetype": "text/x-python",
   "name": "python",
   "nbconvert_exporter": "python",
   "pygments_lexer": "ipython3",
   "version": "3.8.5"
  }
 },
 "nbformat": 4,
 "nbformat_minor": 4
}
